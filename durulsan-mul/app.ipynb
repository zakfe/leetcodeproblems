{
 "cells": [
  {
   "attachments": {},
   "cell_type": "markdown",
   "metadata": {},
   "source": [
    "1)  1 ile 100 arasındaki tek ve çift sayıları bulan kod.\n",
    "\n",
    "2)  100 ile 200 arasındaki asal sayıları bulan kod.\n",
    "\n",
    "3)  Dışarıdan girilen N elemanlı bir dizinin, tek indisli elemanlarını başka bir diziye atayan program.\n",
    "\n",
    "4) Dışarıdan girilen Hexadecimal değişkeni Decimal değişkene çeviren bir fonksiyon yazınız.\n",
    "\n",
    "5) Dışardan girilen n sayısına kadar olan sayıların toplamını veren c programı. (döngü kullanmadan)"
   ]
  },
  {
   "cell_type": "code",
   "execution_count": 17,
   "metadata": {},
   "outputs": [
    {
     "name": "stdout",
     "output_type": "stream",
     "text": [
      "[0, 2, 4, 6, 8, 10, 12, 14, 16, 18, 20, 22, 24, 26, 28, 30, 32, 34, 36, 38, 40, 42, 44, 46, 48, 50, 52, 54, 56, 58, 60, 62, 64, 66, 68, 70, 72, 74, 76, 78, 80, 82, 84, 86, 88, 90, 92, 94, 96, 98, 100]\n",
      "[1, 3, 5, 7, 9, 11, 13, 15, 17, 19, 21, 23, 25, 27, 29, 31, 33, 35, 37, 39, 41, 43, 45, 47, 49, 51, 53, 55, 57, 59, 61, 63, 65, 67, 69, 71, 73, 75, 77, 79, 81, 83, 85, 87, 89, 91, 93, 95, 97, 99]\n"
     ]
    }
   ],
   "source": [
    "result_cift = []\n",
    "result_tek = []\n",
    "for i in range(101):\n",
    "    if i%2 ==0:\n",
    "        result_cift.append(i)\n",
    "    else:\n",
    "        result_tek.append(i)\n",
    "print(result_cift)    \n",
    "print(result_tek)  \n"
   ]
  },
  {
   "cell_type": "code",
   "execution_count": 46,
   "metadata": {},
   "outputs": [
    {
     "data": {
      "text/plain": [
       "[101,\n",
       " 103,\n",
       " 107,\n",
       " 109,\n",
       " 113,\n",
       " 127,\n",
       " 131,\n",
       " 137,\n",
       " 139,\n",
       " 149,\n",
       " 151,\n",
       " 157,\n",
       " 163,\n",
       " 167,\n",
       " 173,\n",
       " 179,\n",
       " 181,\n",
       " 191,\n",
       " 193,\n",
       " 197,\n",
       " 199]"
      ]
     },
     "execution_count": 46,
     "metadata": {},
     "output_type": "execute_result"
    }
   ],
   "source": [
    "\n",
    "result = []\n",
    "for j in range(100, 201):\n",
    "    x = 0\n",
    "    for i in range(2, j):\n",
    "        if (j % i == 0):\n",
    "            x = 1\n",
    "            break\n",
    "    if x == 0 :\n",
    "        result.append(j)\n",
    "result"
   ]
  },
  {
   "cell_type": "code",
   "execution_count": 52,
   "metadata": {},
   "outputs": [],
   "source": [
    "# A:10 B:11 C:12 D:13 E:14 F:15\n",
    "def hextrans(num):\n",
    "    sum = 0\n",
    "    j = 0\n",
    "    for i in range(len(num)-1, -1,-1):\n",
    "        if num[i]>= '0' and num[i] <= '9':\n",
    "            sum =sum +  (ord(num[i])-48)*pow(16,j)\n",
    "            j += 1\n",
    "        else:\n",
    "            sum = sum + (ord(num[i])-55)*pow(16,j)\n",
    "            j += 1\n",
    "    return sum\n"
   ]
  },
  {
   "cell_type": "code",
   "execution_count": 58,
   "metadata": {},
   "outputs": [
    {
     "data": {
      "text/plain": [
       "26358023"
      ]
     },
     "execution_count": 58,
     "metadata": {},
     "output_type": "execute_result"
    }
   ],
   "source": [
    "hextrans(\"000P23107\")"
   ]
  },
  {
   "cell_type": "code",
   "execution_count": 3,
   "metadata": {},
   "outputs": [],
   "source": [
    "def func(nlist):\n",
    "    new_list = []\n",
    "    for i in range(len(nlist)):\n",
    "        if i%2 == 1: #tek indisli derken tek sayı ise bu \n",
    "            new_list.append(nlist[i])\n",
    "        elif i<= 9:   #tek basamak olarak diyor ise bu \n",
    "            new_list.append(nlist[i])\n",
    "    return new_list"
   ]
  },
  {
   "cell_type": "code",
   "execution_count": 2,
   "metadata": {},
   "outputs": [
    {
     "data": {
      "text/plain": [
       "[14, 1, 3, 5]"
      ]
     },
     "execution_count": 2,
     "metadata": {},
     "output_type": "execute_result"
    }
   ],
   "source": [
    "func([12,14,15,1,2,3,4,5,6])"
   ]
  },
  {
   "cell_type": "code",
   "execution_count": 8,
   "metadata": {},
   "outputs": [],
   "source": [
    "def nsum(num):\n",
    "    result = num*(num+1)/2\n",
    "    return int(result)"
   ]
  },
  {
   "cell_type": "code",
   "execution_count": 10,
   "metadata": {},
   "outputs": [
    {
     "data": {
      "text/plain": [
       "55"
      ]
     },
     "execution_count": 10,
     "metadata": {},
     "output_type": "execute_result"
    }
   ],
   "source": [
    "nsum(10)"
   ]
  }
 ],
 "metadata": {
  "kernelspec": {
   "display_name": "Python 3",
   "language": "python",
   "name": "python3"
  },
  "language_info": {
   "codemirror_mode": {
    "name": "ipython",
    "version": 3
   },
   "file_extension": ".py",
   "mimetype": "text/x-python",
   "name": "python",
   "nbconvert_exporter": "python",
   "pygments_lexer": "ipython3",
   "version": "3.11.1 (v3.11.1:a7a450f84a, Dec  6 2022, 15:24:06) [Clang 13.0.0 (clang-1300.0.29.30)]"
  },
  "orig_nbformat": 4,
  "vscode": {
   "interpreter": {
    "hash": "aee8b7b246df8f9039afb4144a1f6fd8d2ca17a180786b69acc140d282b71a49"
   }
  }
 },
 "nbformat": 4,
 "nbformat_minor": 2
}
