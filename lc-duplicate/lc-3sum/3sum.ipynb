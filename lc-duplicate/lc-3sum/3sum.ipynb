{
 "cells": [
  {
   "cell_type": "code",
   "execution_count": 43,
   "metadata": {},
   "outputs": [],
   "source": [
    "nums = [-1,0,1,2,-1,-4,-2,-3,3,0,4]\n",
    "\n",
    "\n",
    "class Solution(object):\n",
    "    def threeSum(self, nums):\n",
    "        nums = sorted(nums)\n",
    "        print(nums)\n",
    "        l, r = 1,   len(nums)-1 # we got i, l, r pointer r will start at the end of array always while i looping through list l will loop between i and r\n",
    "        sum = 0\n",
    "        res_arr = []\n",
    "        for i in range(len(nums)):\n",
    "            l = i+1\n",
    "            r = len(nums)-1\n",
    "            while l < r:\n",
    "\n",
    "                sum = nums[i] + nums[l] + nums[r]\n",
    "                if sum == 0 :\n",
    "                    \n",
    "                    if [nums[i],nums[l],nums[r]] not in res_arr:\n",
    "                        res_arr.append([nums[i],nums[l],nums[r]])\n",
    "                    r= r-1\n",
    "                    l= l+1\n",
    "                        \n",
    "\n",
    "                elif sum > 0:\n",
    "                    r = r-1\n",
    "                elif sum < 0:\n",
    "                    l = l+1\n",
    "\n",
    "        return res_arr\n"
   ]
  },
  {
   "cell_type": "code",
   "execution_count": 44,
   "metadata": {},
   "outputs": [
    {
     "name": "stdout",
     "output_type": "stream",
     "text": [
      "[-4, -3, -2, -1, -1, 0, 0, 1, 2, 3, 4]\n"
     ]
    },
    {
     "data": {
      "text/plain": [
       "[[-4, 0, 4],\n",
       " [-4, 1, 3],\n",
       " [-3, -1, 4],\n",
       " [-3, 0, 3],\n",
       " [-3, 1, 2],\n",
       " [-2, -1, 3],\n",
       " [-2, 0, 2],\n",
       " [-1, -1, 2],\n",
       " [-1, 0, 1]]"
      ]
     },
     "execution_count": 44,
     "metadata": {},
     "output_type": "execute_result"
    }
   ],
   "source": [
    "a = Solution().threeSum(nums)\n",
    "a"
   ]
  },
  {
   "cell_type": "code",
   "execution_count": 28,
   "metadata": {},
   "outputs": [
    {
     "data": {
      "text/plain": [
       "-1"
      ]
     },
     "execution_count": 28,
     "metadata": {},
     "output_type": "execute_result"
    }
   ],
   "source": [
    "a[0][0]"
   ]
  }
 ],
 "metadata": {
  "kernelspec": {
   "display_name": "Python 3",
   "language": "python",
   "name": "python3"
  },
  "language_info": {
   "codemirror_mode": {
    "name": "ipython",
    "version": 3
   },
   "file_extension": ".py",
   "mimetype": "text/x-python",
   "name": "python",
   "nbconvert_exporter": "python",
   "pygments_lexer": "ipython3",
   "version": "3.11.1"
  },
  "orig_nbformat": 4,
  "vscode": {
   "interpreter": {
    "hash": "aee8b7b246df8f9039afb4144a1f6fd8d2ca17a180786b69acc140d282b71a49"
   }
  }
 },
 "nbformat": 4,
 "nbformat_minor": 2
}
