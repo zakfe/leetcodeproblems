{
 "cells": [
  {
   "cell_type": "code",
   "execution_count": 2,
   "metadata": {},
   "outputs": [],
   "source": [
    "class Solution(object):\n",
    "    def topKFrequent(self, nums, k):\n",
    "        c = {}\n",
    "        for i in nums:\n",
    "            c[nums[i]] = 1 + c.get(c[i], 0)"
   ]
  },
  {
   "cell_type": "code",
   "execution_count": 48,
   "metadata": {},
   "outputs": [
    {
     "name": "stdout",
     "output_type": "stream",
     "text": [
      "[[], [], [], [], [], [], [], []]\n",
      "1 ben i yim\n",
      "3 ben n yim\n",
      "2 ben i yim\n",
      "1 ben n yim\n",
      "3 ben i yim\n",
      "1 ben n yim\n",
      "4 ben i yim\n",
      "2 ben n yim\n",
      "dict_items([(1, 3), (2, 1), (3, 1), (4, 2)])\n",
      "[[], [2, 3], [4], [1], [], [], [], []]\n"
     ]
    }
   ],
   "source": [
    "nums = [1,1,1,2,3,4,4]\n",
    "c = {}\n",
    "freq = [[] for i in range(len(nums) + 1)]\n",
    "print(freq)\n",
    "for i in nums:\n",
    "    c[i] = 1 + c.get(i, 0)\n",
    "for i, n in c.items():\n",
    "    \n",
    "    print(i,\"ben i yim\")\n",
    "    print(n,\"ben n yim\")\n",
    "    freq[n].append(i)\n",
    "    \n",
    "\n",
    "print(c.items())\n",
    "print(freq)\n",
    "\n"
   ]
  }
 ],
 "metadata": {
  "kernelspec": {
   "display_name": "Python 3",
   "language": "python",
   "name": "python3"
  },
  "language_info": {
   "codemirror_mode": {
    "name": "ipython",
    "version": 3
   },
   "file_extension": ".py",
   "mimetype": "text/x-python",
   "name": "python",
   "nbconvert_exporter": "python",
   "pygments_lexer": "ipython3",
   "version": "3.11.1 (v3.11.1:a7a450f84a, Dec  6 2022, 15:24:06) [Clang 13.0.0 (clang-1300.0.29.30)]"
  },
  "orig_nbformat": 4,
  "vscode": {
   "interpreter": {
    "hash": "aee8b7b246df8f9039afb4144a1f6fd8d2ca17a180786b69acc140d282b71a49"
   }
  }
 },
 "nbformat": 4,
 "nbformat_minor": 2
}
