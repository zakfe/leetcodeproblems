{
 "cells": [
  {
   "cell_type": "code",
   "execution_count": 12,
   "metadata": {},
   "outputs": [],
   "source": [
    "numbers = [2,7,11,15] \n",
    "target = 9\n",
    "class Solution(object):\n",
    "    def twoSum(self, numbers, target):\n",
    "        sum = 0\n",
    "        l, r = 0, len(numbers)-1\n",
    "        result_array = []\n",
    "        while l<r:\n",
    "            sum = numbers[l] + numbers[r]\n",
    "            if target > sum :\n",
    "                l +=1\n",
    "            elif target < sum :\n",
    "                r -=1\n",
    "            else:\n",
    "                result_array.extend([l+1,r+1])\n",
    "                break\n",
    "        return result_array\n",
    "        "
   ]
  },
  {
   "cell_type": "code",
   "execution_count": 13,
   "metadata": {},
   "outputs": [
    {
     "data": {
      "text/plain": [
       "[1, 2]"
      ]
     },
     "execution_count": 13,
     "metadata": {},
     "output_type": "execute_result"
    }
   ],
   "source": [
    "Solution().twoSum(numbers,target)"
   ]
  }
 ],
 "metadata": {
  "kernelspec": {
   "display_name": "Python 3",
   "language": "python",
   "name": "python3"
  },
  "language_info": {
   "codemirror_mode": {
    "name": "ipython",
    "version": 3
   },
   "file_extension": ".py",
   "mimetype": "text/x-python",
   "name": "python",
   "nbconvert_exporter": "python",
   "pygments_lexer": "ipython3",
   "version": "3.11.1"
  },
  "orig_nbformat": 4,
  "vscode": {
   "interpreter": {
    "hash": "aee8b7b246df8f9039afb4144a1f6fd8d2ca17a180786b69acc140d282b71a49"
   }
  }
 },
 "nbformat": 4,
 "nbformat_minor": 2
}
