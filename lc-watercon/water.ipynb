{
 "cells": [
  {
   "attachments": {},
   "cell_type": "markdown",
   "metadata": {},
   "source": [
    "You are given an integer array height of length n. There are n vertical lines drawn such that the two endpoints of the ith line are (i, 0) and (i, height[i]).\n",
    "\n",
    "Find two lines that together with the x-axis form a container, such that the container contains the most water.\n",
    "\n",
    "Return the maximum amount of water a container can store.\n",
    "\n",
    "Notice that you may not slant the container.\n",
    "\n"
   ]
  },
  {
   "attachments": {},
   "cell_type": "markdown",
   "metadata": {},
   "source": [
    "# pointer solution which is faster we are sliding l, r pointers by one according to which is greater"
   ]
  },
  {
   "cell_type": "code",
   "execution_count": 130,
   "metadata": {},
   "outputs": [],
   "source": [
    "height = [1,8,6,2,5,4,8,3,7]\n",
    "class Solution(object):\n",
    "    def maxArea(self, height):\n",
    "        l, r = 0, len(height)-1\n",
    "        max_area = 0\n",
    "        cur_area = 0\n",
    "        while l < r:\n",
    "            cur_area = min(height[l],height[r]) * (r-l)\n",
    "            max_area = max(max_area,cur_area)\n",
    "            if height[l] < height[r]:\n",
    "                l += 1\n",
    "            elif height[l]  > height[r]:\n",
    "                r -= 1\n",
    "            elif height[l] == height[r]:\n",
    "                if height[l+1]>height[r-1]:\n",
    "                    r -= 1\n",
    "                else:\n",
    "                    l += 1\n",
    "        return max_area\n",
    "\n",
    "        \n",
    "            \n"
   ]
  },
  {
   "cell_type": "code",
   "execution_count": 131,
   "metadata": {},
   "outputs": [
    {
     "data": {
      "text/plain": [
       "49"
      ]
     },
     "execution_count": 131,
     "metadata": {},
     "output_type": "execute_result"
    }
   ],
   "source": [
    "Solution().maxArea(height)"
   ]
  },
  {
   "attachments": {},
   "cell_type": "markdown",
   "metadata": {},
   "source": [
    "# bruteforce "
   ]
  },
  {
   "cell_type": "code",
   "execution_count": 73,
   "metadata": {},
   "outputs": [],
   "source": [
    "height = [1,8,6,2,5,4,8,3,7]\n",
    "class Solution(object):\n",
    "    def maxArea(self, height):\n",
    "        max_area = 0\n",
    "        cur_area = 0\n",
    "        heights = []\n",
    "        for l in range(len(height)):\n",
    "            for r in range(len(height)-1,-1,-1):\n",
    "                cur_area = min(height[l],height[r]) * (r-l)\n",
    "                if cur_area > max_area:\n",
    "                    max_area = cur_area\n",
    "        return max_area\n",
    "            \n",
    "            \n"
   ]
  }
 ],
 "metadata": {
  "kernelspec": {
   "display_name": "Python 3",
   "language": "python",
   "name": "python3"
  },
  "language_info": {
   "codemirror_mode": {
    "name": "ipython",
    "version": 3
   },
   "file_extension": ".py",
   "mimetype": "text/x-python",
   "name": "python",
   "nbconvert_exporter": "python",
   "pygments_lexer": "ipython3",
   "version": "3.11.1"
  },
  "orig_nbformat": 4,
  "vscode": {
   "interpreter": {
    "hash": "aee8b7b246df8f9039afb4144a1f6fd8d2ca17a180786b69acc140d282b71a49"
   }
  }
 },
 "nbformat": 4,
 "nbformat_minor": 2
}
